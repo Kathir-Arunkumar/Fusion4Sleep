{
 "cells": [
  {
   "cell_type": "code",
   "execution_count": 1,
   "metadata": {},
   "outputs": [],
   "source": [
    "import pandas as pd\n"
   ]
  },
  {
   "cell_type": "code",
   "execution_count": 2,
   "metadata": {},
   "outputs": [
    {
     "name": "stdout",
     "output_type": "stream",
     "text": [
      "Available sheets: ['normal_eeg', 'normal_ecg', 'normal_emg', 'normal_eog', 'insomnia_eeg', 'insomnia_ecg', 'insomnia_emg', 'insomnia_eog']\n"
     ]
    }
   ],
   "source": [
    "# Load the Excel file and verify sheet names\n",
    "excel_file = pd.ExcelFile(\"combined_data.xlsx\")\n",
    "available_sheets = excel_file.sheet_names\n",
    "print(f\"Available sheets: {available_sheets}\")"
   ]
  },
  {
   "cell_type": "code",
   "execution_count": 1,
   "metadata": {},
   "outputs": [
    {
     "name": "stdout",
     "output_type": "stream",
     "text": [
      "Combined files successfully created.\n"
     ]
    }
   ],
   "source": [
    "import pandas as pd\n",
    "import glob\n",
    "\n",
    "# Define input CSV files\n",
    "normal_files = {\n",
    "    \"ecg\": \"normal_ecg.csv\",\n",
    "    \"emg\": \"normal_emg.csv\",\n",
    "    \"eeg\": \"normal_eeg.csv\",\n",
    "    \"eog\": \"normal_eog.csv\",\n",
    "}\n",
    "\n",
    "insomnia_files = {\n",
    "    \"ecg\": \"insomnia_ecg.csv\",\n",
    "    \"emg\": \"insomnia_emg.csv\",\n",
    "    \"eeg\": \"insomnia_eeg.csv\",\n",
    "    \"eog\": \"insomnia_eog.csv\",\n",
    "}\n",
    "\n",
    "# Create output files\n",
    "def combine_files(normal_file, insomnia_file, output_file):\n",
    "    # Load normal and insomnia datasets\n",
    "    normal_data = pd.read_csv(normal_file)\n",
    "    insomnia_data = pd.read_csv(insomnia_file)\n",
    "\n",
    "    # Add a label to each dataset\n",
    "    normal_data['Label'] = 0\n",
    "    insomnia_data['Label'] = 1\n",
    "\n",
    "    # Combine datasets\n",
    "    combined_data = pd.concat([normal_data, insomnia_data], axis=0)\n",
    "\n",
    "    # Shuffle the combined dataset\n",
    "    combined_data = combined_data.sample(frac=1).reset_index(drop=True)\n",
    "\n",
    "    # Save the combined dataset to a new CSV file\n",
    "    combined_data.to_csv(output_file, index=False)\n",
    "\n",
    "# Define output file names\n",
    "output_files = {\n",
    "    \"ecg\": \"combined_ecg.csv\",\n",
    "    \"emg\": \"combined_emg.csv\",\n",
    "    \"eeg\": \"combined_eeg.csv\",\n",
    "    \"eog\": \"combined_eog.csv\",\n",
    "}\n",
    "\n",
    "# Combine and save for each signal type\n",
    "for signal in normal_files.keys():\n",
    "    combine_files(normal_files[signal], insomnia_files[signal], output_files[signal])\n",
    "\n",
    "print(\"Combined files successfully created.\")\n"
   ]
  },
  {
   "cell_type": "code",
   "execution_count": null,
   "metadata": {},
   "outputs": [],
   "source": []
  }
 ],
 "metadata": {
  "kernelspec": {
   "display_name": "base",
   "language": "python",
   "name": "python3"
  },
  "language_info": {
   "codemirror_mode": {
    "name": "ipython",
    "version": 3
   },
   "file_extension": ".py",
   "mimetype": "text/x-python",
   "name": "python",
   "nbconvert_exporter": "python",
   "pygments_lexer": "ipython3",
   "version": "3.9.13"
  }
 },
 "nbformat": 4,
 "nbformat_minor": 2
}
