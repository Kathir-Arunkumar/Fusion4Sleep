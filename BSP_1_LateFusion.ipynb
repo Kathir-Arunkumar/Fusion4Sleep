{
 "cells": [
  {
   "cell_type": "code",
   "execution_count": 2,
   "id": "88696a25-4643-4325-b917-a4522edd7e40",
   "metadata": {},
   "outputs": [
    {
     "name": "stdout",
     "output_type": "stream",
     "text": [
      "Collecting scikit-learn\n",
      "  Using cached scikit_learn-1.5.2-cp310-cp310-manylinux_2_17_x86_64.manylinux2014_x86_64.whl.metadata (13 kB)\n",
      "Requirement already satisfied: numpy>=1.19.5 in /root/miniconda3/envs/py3.10/lib/python3.10/site-packages (from scikit-learn) (1.26.4)\n",
      "Collecting scipy>=1.6.0 (from scikit-learn)\n",
      "  Using cached scipy-1.14.1-cp310-cp310-manylinux_2_17_x86_64.manylinux2014_x86_64.whl.metadata (60 kB)\n",
      "Collecting joblib>=1.2.0 (from scikit-learn)\n",
      "  Using cached joblib-1.4.2-py3-none-any.whl.metadata (5.4 kB)\n",
      "Collecting threadpoolctl>=3.1.0 (from scikit-learn)\n",
      "  Using cached threadpoolctl-3.5.0-py3-none-any.whl.metadata (13 kB)\n",
      "Using cached scikit_learn-1.5.2-cp310-cp310-manylinux_2_17_x86_64.manylinux2014_x86_64.whl (13.3 MB)\n",
      "Using cached joblib-1.4.2-py3-none-any.whl (301 kB)\n",
      "Using cached scipy-1.14.1-cp310-cp310-manylinux_2_17_x86_64.manylinux2014_x86_64.whl (41.2 MB)\n",
      "Using cached threadpoolctl-3.5.0-py3-none-any.whl (18 kB)\n",
      "Installing collected packages: threadpoolctl, scipy, joblib, scikit-learn\n",
      "Successfully installed joblib-1.4.2 scikit-learn-1.5.2 scipy-1.14.1 threadpoolctl-3.5.0\n",
      "\u001b[33mWARNING: Running pip as the 'root' user can result in broken permissions and conflicting behaviour with the system package manager, possibly rendering your system unusable.It is recommended to use a virtual environment instead: https://pip.pypa.io/warnings/venv. Use the --root-user-action option if you know what you are doing and want to suppress this warning.\u001b[0m\u001b[33m\n",
      "\u001b[0m"
     ]
    }
   ],
   "source": [
    "!pip3 install -U scikit-learn "
   ]
  },
  {
   "cell_type": "code",
   "execution_count": 3,
   "id": "a2c3bed5-3d00-49f0-a019-6c2339cb600b",
   "metadata": {},
   "outputs": [],
   "source": [
    "import pandas as pd\n",
    "from sklearn.model_selection import train_test_split\n",
    "from sklearn.svm import SVC\n",
    "from sklearn.ensemble import RandomForestClassifier, GradientBoostingClassifier\n",
    "from sklearn.linear_model import LogisticRegression\n",
    "from sklearn.neighbors import KNeighborsClassifier\n",
    "from sklearn.metrics import accuracy_score, precision_score, recall_score, f1_score, roc_auc_score\n",
    "import numpy as np\n",
    "import joblib\n",
    "import os"
   ]
  },
  {
   "cell_type": "code",
   "execution_count": 10,
   "id": "58b8c475-ae16-4366-9d5f-447dd6a4a2cc",
   "metadata": {},
   "outputs": [],
   "source": [
    "csv_files = [\"combined_eeg.csv\", \"combined_ecg.csv\", \"combined_emg.csv\", \"combined_eog.csv\"]\n",
    "combined_data = {}"
   ]
  },
  {
   "cell_type": "code",
   "execution_count": 11,
   "id": "14506134-aec2-4781-9295-a11f5ae5b897",
   "metadata": {},
   "outputs": [],
   "source": [
    "for csv_file in csv_files:\n",
    "    if os.path.exists(csv_file):\n",
    "        df = pd.read_csv(csv_file)\n",
    "        signal_type = csv_file.split('_')[1].split('.')[0]  # Extracting signal type (eeg, ecg, emg, eog)\n",
    "        combined_data[signal_type] = df\n",
    "    else:\n",
    "        print(f\"Warning: CSV file {csv_file} not found.\")"
   ]
  },
  {
   "cell_type": "code",
   "execution_count": 12,
   "id": "8fc87f5d-49c3-4e95-9ae9-0398102eb9ea",
   "metadata": {},
   "outputs": [],
   "source": [
    "model_list = {\n",
    "    'SVM': SVC(probability=True),\n",
    "    'Random Forest': RandomForestClassifier(),\n",
    "    'Gradient Boosting': GradientBoostingClassifier(),\n",
    "    'Logistic Regression': LogisticRegression(max_iter=1000),\n",
    "    'K-Nearest Neighbors': KNeighborsClassifier()\n",
    "}\n"
   ]
  },
  {
   "cell_type": "code",
   "execution_count": 14,
   "id": "0aa2ea42-8ee2-4ce1-a34b-3816fae0b83f",
   "metadata": {},
   "outputs": [],
   "source": [
    "best_models = {}\n",
    "X_train_dict, X_val_dict, X_test_dict, y_train_dict, y_val_dict, y_test_dict = {}, {}, {}, {}, {}, {}\n",
    "\n",
    "for signal_type, df in combined_data.items():\n",
    "    features = df.drop(columns=['Label'])\n",
    "    labels = df['Label']\n",
    "\n",
    "    # Split the data for each signal type (70% train, 20% validation, 10% test)\n",
    "    X_train, X_temp, y_train, y_temp = train_test_split(features, labels, test_size=0.3, random_state=42, stratify=labels)\n",
    "    X_val, X_test, y_val, y_test = train_test_split(X_temp, y_temp, test_size=0.3333, random_state=42, stratify=y_temp)  # 0.3333 * 0.3 = 0.1\n",
    "\n",
    "    X_train_dict[signal_type] = X_train\n",
    "    X_val_dict[signal_type] = X_val\n",
    "    X_test_dict[signal_type] = X_test\n",
    "    y_train_dict[signal_type] = y_train\n",
    "    y_val_dict[signal_type] = y_val\n",
    "    y_test_dict[signal_type] = y_test\n",
    "\n",
    "    best_model = None\n",
    "    best_f1 = 0"
   ]
  },
  {
   "cell_type": "code",
   "execution_count": 15,
   "id": "724cecfb-409a-4396-8e6e-d0f95bf6d05b",
   "metadata": {},
   "outputs": [
    {
     "name": "stdout",
     "output_type": "stream",
     "text": [
      "eog - SVM F1-Score: 0.5316831683168317\n",
      "eog - Random Forest F1-Score: 0.738498789346247\n",
      "eog - Gradient Boosting F1-Score: 0.6517626827171109\n",
      "eog - Logistic Regression F1-Score: 0.5766871165644172\n",
      "eog - K-Nearest Neighbors F1-Score: 0.6460788297440065\n"
     ]
    }
   ],
   "source": [
    "for model_name, model in model_list.items():\n",
    "        if len(np.unique(y_train)) < 2:\n",
    "            print(f\"Skipping model training for {signal_type} due to only one class in training set.\")\n",
    "            continue\n",
    "        \n",
    "        model.fit(X_train, y_train)\n",
    "        y_pred = model.predict(X_val)\n",
    "        f1 = f1_score(y_val, y_pred, zero_division=1)\n",
    "\n",
    "        print(f\"{signal_type} - {model_name} F1-Score: {f1}\")\n",
    "\n",
    "        # Select the best model based on F1-score\n",
    "        if f1 > best_f1:\n",
    "            best_model = model\n",
    "            best_f1 = f1"
   ]
  },
  {
   "cell_type": "code",
   "execution_count": 16,
   "id": "34617768-31e4-462d-9c78-5311758e6111",
   "metadata": {},
   "outputs": [
    {
     "name": "stdout",
     "output_type": "stream",
     "text": [
      "Best model for eog: RandomForestClassifier with F1-Score: 0.738498789346247\n"
     ]
    }
   ],
   "source": [
    "if best_model is not None:\n",
    "        best_models[signal_type] = best_model\n",
    "        print(f\"Best model for {signal_type}: {type(best_model).__name__} with F1-Score: {best_f1}\")\n",
    "        # Save the best model for each signal type\n",
    "        joblib.dump(best_model, f\"best_model_{signal_type}.joblib\")"
   ]
  },
  {
   "cell_type": "code",
   "execution_count": 17,
   "id": "1069808c-aab6-43c3-955b-1f7ad5b657d2",
   "metadata": {},
   "outputs": [],
   "source": [
    "def majority_voting(predictions):\n",
    "    return np.apply_along_axis(lambda x: np.bincount(x).argmax(), axis=0, arr=predictions)"
   ]
  },
  {
   "cell_type": "code",
   "execution_count": 18,
   "id": "a70a9408-2c53-4b89-8d09-10171b832e47",
   "metadata": {},
   "outputs": [],
   "source": [
    "all_test_preds = []\n",
    "for signal_type in combined_data.keys():\n",
    "    if signal_type in X_test_dict and signal_type in best_models:\n",
    "        X_test = X_test_dict[signal_type]\n",
    "        model = best_models[signal_type]\n",
    "        preds = model.predict(X_test)\n",
    "        all_test_preds.append(preds)\n"
   ]
  },
  {
   "cell_type": "code",
   "execution_count": 19,
   "id": "42ce6538-2d91-4220-8f79-5f0ed8366736",
   "metadata": {},
   "outputs": [
    {
     "name": "stdout",
     "output_type": "stream",
     "text": [
      "Fused Model - Accuracy: 0.7494089834515366, Precision: 0.7520259319286872, Recall: 0.7376788553259142, F1-Score: 0.7447833065810594\n"
     ]
    }
   ],
   "source": [
    "if all_test_preds:\n",
    "    final_predictions = majority_voting(np.array(all_test_preds))\n",
    "\n",
    "    # Evaluation\n",
    "    y_test_combined = pd.concat([y_test_dict[signal_type] for signal_type in combined_data.keys() if signal_type in y_test_dict and signal_type in best_models]).reset_index(drop=True)\n",
    "    fused_accuracy = accuracy_score(y_test_combined, final_predictions)\n",
    "    fused_precision = precision_score(y_test_combined, final_predictions, zero_division=1)\n",
    "    fused_recall = recall_score(y_test_combined, final_predictions, zero_division=1)\n",
    "    fused_f1 = f1_score(y_test_combined, final_predictions, zero_division=1)\n",
    "\n",
    "    print(f\"Fused Model - Accuracy: {fused_accuracy}, Precision: {fused_precision}, Recall: {fused_recall}, F1-Score: {fused_f1}\")\n"
   ]
  },
  {
   "cell_type": "code",
   "execution_count": 20,
   "id": "51d342c0-3b94-4cbe-aa4a-59887f1bd1bd",
   "metadata": {},
   "outputs": [],
   "source": [
    " np.save(\"fused_model_predictions.npy\", final_predictions)"
   ]
  },
  {
   "cell_type": "code",
   "execution_count": null,
   "id": "f34f03c6-b88c-4cd2-b444-46cc20be479f",
   "metadata": {},
   "outputs": [],
   "source": []
  }
 ],
 "metadata": {
  "kernelspec": {
   "display_name": "Python 3 (ipykernel)",
   "language": "python",
   "name": "python3"
  },
  "language_info": {
   "codemirror_mode": {
    "name": "ipython",
    "version": 3
   },
   "file_extension": ".py",
   "mimetype": "text/x-python",
   "name": "python",
   "nbconvert_exporter": "python",
   "pygments_lexer": "ipython3",
   "version": "3.10.14"
  }
 },
 "nbformat": 4,
 "nbformat_minor": 5
}
